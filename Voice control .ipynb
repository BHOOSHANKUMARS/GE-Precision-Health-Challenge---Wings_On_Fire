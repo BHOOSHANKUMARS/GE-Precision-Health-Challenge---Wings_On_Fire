{
 "cells": [
  {
   "cell_type": "code",
   "execution_count": 1,
   "id": "ba7559ff",
   "metadata": {},
   "outputs": [
    {
     "data": {
      "text/plain": [
       "<firebase_admin.App at 0x2e19e7170b8>"
      ]
     },
     "execution_count": 1,
     "metadata": {},
     "output_type": "execute_result"
    }
   ],
   "source": [
    "import speech_recognition as sr\n",
    "import pyttsx3\n",
    "from pyfirmata import Arduino, util \n",
    "from twilio.rest import Client\n",
    "\n",
    "#>>>>>>>>Fire Base included<<<<<<<\n",
    "\n",
    "import firebase_admin\n",
    "from firebase_admin import credentials\n",
    "from firebase_admin import db\n",
    "\n",
    "cred = credentials.Certificate('quartets-9aec7-firebase-adminsdk-vvxm2-738bf3d8dd.json')\n",
    "firebase_admin.initialize_app(cred,{'databaseURL':'https://quartets-9aec7-default-rtdb.firebaseio.com'})"
   ]
  },
  {
   "cell_type": "code",
   "execution_count": 3,
   "id": "3534a037",
   "metadata": {},
   "outputs": [],
   "source": [
    "\n",
    "#board = Arduino('COM4')\n",
    "\n",
    "engine=pyttsx3.init('sapi5')\n",
    "voices=engine.getProperty('voices')\n",
    "\n",
    "engine.setProperty('voice',voices[1].id)\n",
    "\n",
    "def speak(audio):\n",
    "    engine.say(audio)\n",
    "    engine.runAndWait()\n",
    "    \n",
    "from_num = '+18642147085'\n",
    "To_num = '+916383531566'\n",
    "\n",
    "def phone_call(response,from_num,To_num):\n",
    "    account_sid=\"ACbe10fe9d09b294b8bd3655e65f8a472d\"\n",
    "    auth_token=\"e18873a8a786a291ef31d2f092238591\"\n",
    "\n",
    "    client=Client(account_sid,auth_token)\n",
    "\n",
    "    call=client.calls.create(twiml=response,\n",
    "                             to=To_num,\n",
    "                            from_=from_num)\n",
    "\n",
    "def send_message(message_body,from_num,To_num):\n",
    "\n",
    "    account_sid=\"ACbe10fe9d09b294b8bd3655e65f8a472d\"\n",
    "    auth_token=\"e18873a8a786a291ef31d2f092238591\"\n",
    "\n",
    "\n",
    "    client=Client(account_sid,auth_token)\n",
    "\n",
    "    message = client.messages.create(body=message_body,from_=from_num,to=To_num)\n",
    "\n",
    "    print (message.sid)\n",
    "    \n",
    "    \n"
   ]
  },
  {
   "cell_type": "code",
   "execution_count": null,
   "id": "3e767593",
   "metadata": {},
   "outputs": [
    {
     "name": "stdout",
     "output_type": "stream",
     "text": [
      "Note: Say Iris!\n"
     ]
    }
   ],
   "source": [
    "    \n",
    "#..............Fire base .........................#\n",
    "reference = db.reference(\"IRIS/\")\n",
    "home_automation_ref = reference.child('HomeAutomation')\n",
    "appliance = ['appliance1','appliance2','appliance3','appliance4']\n",
    "\n",
    "    \n",
    "r = sr.Recognizer()\n",
    "with sr.Microphone() as source:\n",
    "    while(1):\n",
    "        print('Note: Say Iris!')\n",
    "        yell = r.listen(source)\n",
    "        try:\n",
    "            txt = r.recognize_google(yell)\n",
    "            if txt=='Iris' or txt=='iris':\n",
    "                speak(\"Yes Sweet Heart!\")\n",
    "                print(\"Yes Sweet Heart!\")\n",
    "                #while(1):\n",
    "                print(\"Say the Command!\")\n",
    "                audio = r.listen(source)\n",
    "                try:\n",
    "                    text = r.recognize_google(audio)\n",
    "                    print(\"Command {} Activated!\".format(text))\n",
    "                    if text=='alpha' or text=='Alpha' or text=='alpa'or text=='Alpa':\n",
    "                        speak('Red light ON')\n",
    "                        print(\"Red light ON\")\n",
    "                        # appliance status ON/OFF\n",
    "                        status = 1\n",
    "                        home_automation_ref.set({appliance[0]: status})                        \n",
    "                    elif text=='beta' or text=='Beta' or text =='peta' or text=='Peta':\n",
    "                        speak('Red light OFF')\n",
    "                        print(\"Red light OFF\")\n",
    "                        # appliance status ON/OFF\n",
    "                        status = 0\n",
    "                        home_automation_ref.set({appliance[0]: status})\n",
    "                    elif text=='Gamma' or text=='gamma' or text=='gama' or text=='Gama':\n",
    "                        speak('Blue light ON')\n",
    "                        print(\"Blue light ON\")\n",
    "                        # appliance status ON/OFF\n",
    "                        status = 1\n",
    "                        home_automation_ref.set({appliance[1]: status})\n",
    "                    elif text=='Delta' or text=='delta' or text=='delda' or text=='Delda':\n",
    "                        speak('Blue light OFF')\n",
    "                        print(\"Blue light OFF\")\n",
    "                        # appliance status ON/OFF\n",
    "                        status = 0\n",
    "                        home_automation_ref.set({appliance[1]: status})\n",
    "                    elif text=='Sigma' or text=='sigma' or text=='sikma' or text=='Sikma' or text=='cigma' or text=='Cigma':\n",
    "                        speak('Call for food')\n",
    "                        print(\"Call for food\")\n",
    "                        response = ('<Response><Say>Hello.......This is a call form rag. I need food........</Say></Response>')\n",
    "                        phone_call(response,from_num,To_num)\n",
    "                        sound.play()\n",
    "                        time.sleep(10)\n",
    "                    elif text=='Omega' or text=='omega':\n",
    "                        speak('Call Come here')\n",
    "                        print(\"Call Come here\")\n",
    "                        response = ('<Response><Say>Hello.......This is a call form rag.Come to my room........</Say></Response>')\n",
    "                        phone_call(response,from_num,To_num)\n",
    "                        sound.play()\n",
    "                        time.sleep(10)\n",
    "                    else:\n",
    "                        speak('Command Invalid')\n",
    "                        print(\"Command Invalid\")\n",
    "                except:\n",
    "                    speak('Say once again sweetheart')\n",
    "                \n",
    "                \n",
    "        except:\n",
    "            print(\"zzz....zzz.....zzzz........\")\n",
    "        "
   ]
  },
  {
   "cell_type": "code",
   "execution_count": null,
   "id": "e916a891",
   "metadata": {},
   "outputs": [],
   "source": []
  }
 ],
 "metadata": {
  "kernelspec": {
   "display_name": "Python 3",
   "language": "python",
   "name": "python3"
  },
  "language_info": {
   "codemirror_mode": {
    "name": "ipython",
    "version": 3
   },
   "file_extension": ".py",
   "mimetype": "text/x-python",
   "name": "python",
   "nbconvert_exporter": "python",
   "pygments_lexer": "ipython3",
   "version": "3.7.1"
  }
 },
 "nbformat": 4,
 "nbformat_minor": 5
}
